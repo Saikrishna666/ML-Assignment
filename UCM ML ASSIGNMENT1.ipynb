{
 "cells": [
  {
   "cell_type": "code",
   "execution_count": 12,
   "metadata": {
    "scrolled": true
   },
   "outputs": [
    {
     "name": "stdout",
     "output_type": "stream",
     "text": [
      "sorted ages : [19, 19, 20, 22, 24, 24, 24, 25, 25, 26]\n",
      "Max age is : 26\n",
      "Min age is : 19\n",
      "after adding min and max ages : [19, 22, 19, 24, 20, 25, 26, 24, 25, 24, 19, 26]\n",
      "median :  24.0\n",
      "average : 22.75\n",
      "range of ages : 7\n"
     ]
    }
   ],
   "source": [
    "#Question 1\n",
    "# The following is a list of 10 students ages:\n",
    "# ages = [19, 22, 19, 24, 20, 25, 26, 24, 25, 24]\n",
    "# Add the min age and the max age again to the list\n",
    "# Find the median age (one middle item or two middle items divided by two)\n",
    "# Find the average age (sum of all items divided by their number)\n",
    "# Find the range of the ages (max minus min)\n",
    "\n",
    "\n",
    "import numpy\n",
    "ages = [19, 22, 19, 24, 20, 25, 26, 24, 25, 24]\n",
    "\n",
    "print(\"sorted ages :\",sorted(ages)) #sorted list\n",
    "print(\"Max age is :\",max(ages))\n",
    "print(\"Min age is :\",min(ages))\n",
    "#adding min and max numbers to the ages list\n",
    "ages.append(min(ages))\n",
    "ages.append(max(ages))\n",
    "print(\"after adding min and max ages :\",ages)\n",
    "\n",
    "#median of the ages list\n",
    "print(\"median : \",numpy.median(ages))\n",
    "\n",
    "#average of the ages list.\n",
    "print(\"average :\",numpy.average(ages))\n",
    "\n",
    "#range of the list\n",
    "print(\"range of ages :\",max(ages)-min(ages))\n",
    "\n",
    "\n"
   ]
  },
  {
   "cell_type": "code",
   "execution_count": 20,
   "metadata": {},
   "outputs": [
    {
     "name": "stdout",
     "output_type": "stream",
     "text": [
      "{'name': 'Karl', 'color': 'Black', 'breed': 'Bulldog', 'legs': '4', 'age': 'Six Months '}\n",
      "{'first_name': 'Krishna', 'last_name': 'Pydeti', 'gender': 'Male', 'age': '25', 'martial status': 'married', 'skills': ['python'], 'country': 'USA', 'city': 'Kansas', 'address': 'OP'}\n",
      "length of student: 9\n",
      "<class 'list'>\n",
      "['python', 'ML', 'Data Science']\n",
      "keys of student dictionary:dict_keys(['first_name', 'last_name', 'gender', 'age', 'martial status', 'skills', 'country', 'city', 'address'])\n",
      "values of student dictionary: dict_values(['Krishna', 'Pydeti', 'Male', '25', 'married', ['python', 'ML', 'Data Science'], 'USA', 'Kansas', 'OP'])\n"
     ]
    }
   ],
   "source": [
    "#Question 2\n",
    "# Create an empty dictionary called dog\n",
    "# Add name, color, breed, legs, age to the dog dictionary\n",
    "# Create a student dictionary and add first_name, last_name, gender, age, marital status,skills, country, city and address as keys for the dictionary\n",
    "# Get the length of the student dictionary\n",
    "# Get the value of skills and check the data type, it should be a list\n",
    "# Modify the skills values by adding one or two skills\n",
    "# Get the dictionary keys as a list\n",
    "# Get the dictionary values as a list\n",
    "\n",
    "#Creating an empty dictionary\n",
    "dog={}\n",
    "\n",
    "#Add name, color, breed, legs, age to the dog dictionary\n",
    "dog={'name':'Karl','color':'Black','breed':'Bulldog','legs':'4','age':'Six Months '}\n",
    "print(dog)\n",
    "\n",
    "#Creating a student dictionary and adding first_name, last_name, gender, age, marital status, skills, country, city and address as keys for the dictionary\n",
    "student={'first_name':'Krishna','last_name':'Pydeti','gender':'Male','age':'25','martial status':'married','skills':['python'],'country':'USA','city':'Kansas','address':'OP'}\n",
    "print(student)\n",
    "\n",
    "print(f\"length of student: {len(student)}\") # lenght of student dictionary\n",
    "\n",
    "print(type(student['skills']))         #values in skills and type of date   \n",
    "\n",
    "student['skills'].extend(['ML', 'Data Science']) #modifying skills\n",
    "print(student['skills'])\n",
    "\n",
    "print(f\"keys of student dictionary:{student.keys()}\")   #dictionary keys as list\n",
    "\n",
    "print(f\"values of student dictionary: {student.values()}\") #dictionary keys as values\n",
    "\n",
    "      "
   ]
  },
  {
   "cell_type": "code",
   "execution_count": 21,
   "metadata": {},
   "outputs": [
    {
     "name": "stdout",
     "output_type": "stream",
     "text": [
      "no of siblings: 6\n",
      "('Abhi', 'Mohith', 'Vamsi', 'Divya', 'Satya', 'Syam')\n",
      "type:  <class 'tuple'>\n",
      "family member: \n",
      "('Abhi', 'Mohith', 'Vamsi', 'Divya', 'Satya', 'Syam', 'Srinivas', 'Satya')\n"
     ]
    }
   ],
   "source": [
    "#Question:3\n",
    "# Create a tuple containing names of your sisters and your brothers (imaginary siblings are fine)\n",
    "# Join brothers and sisters tuples and assign it to siblings\n",
    "# How many siblings do you have?\n",
    "\n",
    "brothers = (\"Abhi\", \"Mohith\", \"Vamsi\")    #brothers tuple\n",
    "sisters = (\"Divya\", \"Satya\", \"Syam\")  #sisters tuple\n",
    "siblings = brothers+sisters                           #siblings tuple by adding\n",
    "print(f\"no of siblings: {len(siblings)}\")             #number of siblings\n",
    "print(siblings)\n",
    "family_member = ()\n",
    "family_member += siblings + (\"Srinivas\", \"Satya\")  # modifying the siblings tuple by adding family details\n",
    "print(\"type: \",type(family_member))\n",
    "print(\"family member: \")\n",
    "print(family_member)"
   ]
  },
  {
   "cell_type": "code",
   "execution_count": 22,
   "metadata": {},
   "outputs": [
    {
     "name": "stdout",
     "output_type": "stream",
     "text": [
      "length o fhe set it_companies : 7\n",
      "adding twitter to the it_companies  {'Facebook', 'Microsoft', 'Oracle', 'Google', 'twitter', 'Amazon', 'Apple', 'IBM'}\n",
      "set after adding multiple it companies at once : {'Facebook', 'dxc', 'Microsoft', 'Wipro', 'Oracle', 'Google', 'twitter', 'Amazon', 'Apple', 'IBM', 'Qualcomm'}\n",
      "set after removing microsoft : {'Facebook', 'dxc', 'Wipro', 'Oracle', 'Google', 'twitter', 'Amazon', 'Apple', 'IBM', 'Qualcomm'}\n",
      "join A and B {19, 20, 22, 24, 25, 26, 27, 28}\n",
      "A intersection b {19, 20, 22, 24, 25, 26}\n",
      "A subset of b True\n",
      "Are A and B disjoint sets : False\n",
      "Join A with B: {19, 20, 22, 24, 25, 26, 27, 28}\n",
      "join B with A  {19, 20, 22, 24, 25, 26, 27, 28}\n",
      "set()\n",
      "set()\n",
      "set()\n",
      "{19, 22, 24, 25, 26}\n"
     ]
    }
   ],
   "source": [
    "#Question 4\n",
    "#it_companies = {'Facebook', 'Google', 'Microsoft', 'Apple', 'IBM', 'Oracle', 'Amazon'}\n",
    "#A = {19, 22, 24, 20, 25, 26}\n",
    "#B = {19, 22, 20, 25, 26, 24, 28, 27}\n",
    "#age = [22, 19, 24, 25, 26, 24, 25, 24]\n",
    "# Find the length of the set it_companies\n",
    "# Add 'Twitter' to it_companies\n",
    "# Insert multiple IT companies at once to the set it_companies\n",
    "# Remove one of the companies from the set it_companies\n",
    "# What is the difference between remove and discard\n",
    "# Join A and B\n",
    "# Find A intersection B\n",
    "# Is A subset of B\n",
    "# Are A and B disjoint sets\n",
    "# Join A with B and B with A\n",
    "# What is the symmetric difference between A and B\n",
    "# Delete the sets completely\n",
    "# Convert the ages to a set and compare the length of the list and the set\n",
    "\n",
    "it_companies = {'Facebook', 'Google', 'Microsoft', 'Apple', 'IBM', 'Oracle', 'Amazon'}\n",
    "A = {19, 22, 24, 20, 25, 26}\n",
    "B = {19, 22, 20, 25, 26, 24, 28, 27}\n",
    "age = [22, 19, 24, 25, 26, 24, 25, 24]\n",
    "\n",
    "#Find the length of the set it_companies\n",
    "print(\"length o fhe set it_companies :\",len(it_companies))\n",
    "\n",
    "#Add 'Twitter' to it_companies\n",
    "it_companies.add('twitter')\n",
    "print(\"adding twitter to the it_companies \",it_companies)\n",
    "\n",
    "#Insert multiple IT companies at once to the set it_companies\n",
    "list1 = ['Wipro','Qualcomm','dxc']\n",
    "it_companies.update(list1)\n",
    "print('set after adding multiple it companies at once :',it_companies)\n",
    "\n",
    "\n",
    "#Remove one of the companies from the set it_companies\n",
    "it_companies.remove('Microsoft')\n",
    "print('set after removing microsoft :',it_companies)\n",
    "\n",
    "#Join A and B\n",
    "print('join A and B',A.union(B))\n",
    "\n",
    "#Find A intersection B\n",
    "print('A intersection b',A.intersection(B))\n",
    "\n",
    "#Is A subset of B\n",
    "print('A subset of b',A.issubset(B))\n",
    "\n",
    "#Are A and B disjoint sets\n",
    "print('Are A and B disjoint sets :',A.isdisjoint(B))\n",
    "\n",
    "#Join A with B and B with A\n",
    "print('Join A with B:',A.union(B))\n",
    "print('join B with A ',B.union(A))\n",
    "\n",
    "#Symmetric difference between A and B\n",
    "print(A.difference(B))\n",
    "\n",
    "#Delete the sets completely\n",
    "A.clear()\n",
    "print(A)\n",
    "B.clear()\n",
    "print(B)\n",
    "\n",
    "#Convert the ages to a set and compare the length of the list and the set.\n",
    "print(set(age))\n"
   ]
  },
  {
   "cell_type": "code",
   "execution_count": 23,
   "metadata": {},
   "outputs": [
    {
     "name": "stdout",
     "output_type": "stream",
     "text": [
      "radius of the circle is:  30\n",
      "area of circle:  2826.0\n",
      "circumference of circle:  188.4\n",
      "enter radius20\n",
      "Area from user input radius:  1256.0\n"
     ]
    }
   ],
   "source": [
    "#Question 5\n",
    "# The radius of a circle is 30 meters.\n",
    "# Calculate the area of a circle and assign the value to a variable name of _area_of_circle_\n",
    "# Calculate the circumference of a circle and assign the value to a variable name of _circum_of_circle_\n",
    "# Take radius as user input and calculate the area\n",
    "\n",
    "radius=30                                       #taking radius as per input\n",
    "print(\"radius of the circle is: \", radius)\n",
    "area_of_circle=3.14*(radius**2)                 #area of circle                    \n",
    "circumference_of_circle=2*3.14*radius           #circumference of circle\n",
    "print(\"area of circle: \", area_of_circle)\n",
    "print(\"circumference of circle: \", circumference_of_circle)\n",
    "radius_input = int(input(\"enter radius\"))\n",
    "new_area = 3.14*radius_input*radius_input\n",
    "print(\"Area from user input radius: \", new_area)\n"
   ]
  },
  {
   "cell_type": "code",
   "execution_count": 24,
   "metadata": {},
   "outputs": [
    {
     "name": "stdout",
     "output_type": "stream",
     "text": [
      "['I', 'am', 'a', 'teacher', 'and', 'I', 'love', 'to', 'inspire', 'and', 'teach', 'people']\n",
      "number of unique words in the given string:  10\n"
     ]
    }
   ],
   "source": [
    "#Question 6\n",
    "#“I am a teacher and I love to inspire and teach people”\n",
    "# How many unique words have been used in the sentence? Use the split methods and set to get the unique words.\n",
    "\n",
    "sentence = \"I am a teacher and I love to inspire and teach people\"\n",
    "list = sentence.split(' ')          #Split function by default uses whiteSpaces as the separator in the string sentence\n",
    "print(list)\n",
    "unique_words=len(set(list))                #number of unique words in given string\n",
    "print(\"number of unique words in the given string: \",unique_words )"
   ]
  },
  {
   "cell_type": "code",
   "execution_count": 25,
   "metadata": {},
   "outputs": [
    {
     "name": "stdout",
     "output_type": "stream",
     "text": [
      "Name\t\tAge\t\tCountry\t\tCity\n",
      "Asabeneh\t250\t\tFinland\t\tHelsinki\n"
     ]
    }
   ],
   "source": [
    "# Question 7\n",
    "# Use a tab escape sequence to get the following lines.\n",
    "#Name Age Country City\n",
    "#Asabeneh 250 Finland Helsinki\n",
    "\n",
    "print(\"Name\\t\\tAge\\t\\tCountry\\t\\tCity\\nAsabeneh\\t250\\t\\tFinland\\t\\tHelsinki\")\n"
   ]
  },
  {
   "cell_type": "code",
   "execution_count": 27,
   "metadata": {},
   "outputs": [
    {
     "name": "stdout",
     "output_type": "stream",
     "text": [
      "The area of a circle with radius 10 is 314.0 meters square.\n"
     ]
    }
   ],
   "source": [
    "#Question 8\n",
    "#Use the string formatting method to display the following:\n",
    "#radius = 10\n",
    "#area = 3.14 * radius ** 2\n",
    "#“The area of a circle with radius 10 is 314 meters square.”\n",
    "\n",
    "radius = 10\n",
    "area = 3.14 * radius ** 2\n",
    "print(f\"The area of a circle with radius {radius} is {area} meters square.\")\n",
    "\n"
   ]
  },
  {
   "cell_type": "code",
   "execution_count": 28,
   "metadata": {},
   "outputs": [
    {
     "name": "stdout",
     "output_type": "stream",
     "text": [
      "weight in kgs:  [68.0388, 70.30676, 65.77083999999999, 67.131616, 54.431039999999996, 58.96696, 45.3592]\n"
     ]
    }
   ],
   "source": [
    "#Question 9\n",
    "#Write a program, which reads weights (lbs.) of N students into a list and convert these weights to kilograms in a separate list using Loop. N: No of students (Read input from user)\n",
    "#Ex: L1: [150, 155, 145, 148]\n",
    "#Output: [68.03, 70.3, 65.77, 67.13]\n",
    "\n",
    "#list of students weights\n",
    "weight_lbs = [150, 155, 145, 148, 120, 130, 100]\n",
    "weight_kgs = []\n",
    "\n",
    "#converting weight to kgs\n",
    "for x in weight_lbs:\n",
    "    weight_kgs.append(x*0.453592)\n",
    "print(f\"weight in kgs: \",weight_kgs)"
   ]
  },
  {
   "cell_type": "code",
   "execution_count": null,
   "metadata": {},
   "outputs": [],
   "source": []
  }
 ],
 "metadata": {
  "kernelspec": {
   "display_name": "Python 3",
   "language": "python",
   "name": "python3"
  },
  "language_info": {
   "codemirror_mode": {
    "name": "ipython",
    "version": 3
   },
   "file_extension": ".py",
   "mimetype": "text/x-python",
   "name": "python",
   "nbconvert_exporter": "python",
   "pygments_lexer": "ipython3",
   "version": "3.6.5"
  }
 },
 "nbformat": 4,
 "nbformat_minor": 5
}
