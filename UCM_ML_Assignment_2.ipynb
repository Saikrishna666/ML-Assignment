{
 "cells": [
  {
   "cell_type": "code",
   "execution_count": 1,
   "metadata": {},
   "outputs": [
    {
     "name": "stdout",
     "output_type": "stream",
     "text": [
      "*\r\n",
      "**\r\n",
      "***\r\n",
      "****\r\n",
      "*****\r\n",
      "****\r\n",
      "***\r\n",
      "**\r\n",
      "*\r\n",
      "\r\n"
     ]
    }
   ],
   "source": [
    "# Use a python code to display the following star pattern using the for loop\n",
    "\n",
    "rows = 5\n",
    "for i in range(0,rows):\n",
    "    for j in range(0,i+1):\n",
    "        print(\"*\",end = '')\n",
    "    print(\"\\r\")\n",
    "for i in range(rows,0,-1):\n",
    "    for j in range(0,i-1):\n",
    "        print(\"*\",end ='')\n",
    "    print(\"\\r\")"
   ]
  },
  {
   "cell_type": "code",
   "execution_count": 2,
   "metadata": {},
   "outputs": [
    {
     "name": "stdout",
     "output_type": "stream",
     "text": [
      "20 40 60 80 100 "
     ]
    }
   ],
   "source": [
    "#Use looping to output the elements from a provided list present at odd indexes.\n",
    "#my_list = [10, 20, 30, 40, 50, 60, 70, 80, 90, 100]\n",
    "\n",
    "my_list = [10, 20, 30, 40, 50, 60, 70, 80, 90, 100]\n",
    "for i in my_list [1::2]:\n",
    "    print(i,end=' ')"
   ]
  },
  {
   "cell_type": "code",
   "execution_count": 3,
   "metadata": {},
   "outputs": [
    {
     "name": "stdout",
     "output_type": "stream",
     "text": [
      "[23, 'Python', 23.98]\n",
      "[<class 'int'>, <class 'str'>, <class 'float'>]\n"
     ]
    }
   ],
   "source": [
    "#Write a code that appends the type of elements from a given list\n",
    "\n",
    "x = [23, 'Python', 23.98]\n",
    "out = []\n",
    "\n",
    "for output in range(len(x)):\n",
    "    out.append(type(x[output]))\n",
    "print(x)\n",
    "print(out)"
   ]
  },
  {
   "cell_type": "code",
   "execution_count": 10,
   "metadata": {},
   "outputs": [
    {
     "name": "stdout",
     "output_type": "stream",
     "text": [
      "[1, 2, 3, 4, 5]\n"
     ]
    }
   ],
   "source": [
    "#Write a function that takes a list and returns a new list with unique items of the first list.\n",
    "\n",
    "Sample_list = [1,2,3,3,3,3,4,5]\n",
    "Unique_list = []\n",
    "\n",
    "def unique(sample_list):\n",
    "    for i in sample_list:\n",
    "        if i not in Unique_list:\n",
    "            Unique_list.append(i)\n",
    "    return Unique_list\n",
    "\n",
    "print(unique([1,2,3,3,3,3,4,5]))\n"
   ]
  },
  {
   "cell_type": "code",
   "execution_count": 12,
   "metadata": {},
   "outputs": [
    {
     "name": "stdout",
     "output_type": "stream",
     "text": [
      "Input String is: The quick Brow Fox\n",
      "Number of upper case characters are: 3\n",
      "Number of lower case characters are: 12\n"
     ]
    }
   ],
   "source": [
    "#Write a function that accepts a string and calculate the number of upper-case letters and lower-case letters.\n",
    "\n",
    "def upper_lower(string):\n",
    "    count = {\"upper\":0, \"lower\":0}\n",
    "    for i in string:\n",
    "        if i.isupper():\n",
    "            count[\"upper\"] += 1\n",
    "        elif i.islower():\n",
    "            count[\"lower\"] += 1\n",
    "        else:\n",
    "            pass\n",
    "        \n",
    "    print(\"Input String is:\", string)\n",
    "    print(\"Number of upper case characters are:\", count[\"upper\"])\n",
    "    print(\"Number of lower case characters are:\", count[\"lower\"])\n",
    "    \n",
    "upper_lower(\"The quick Brow Fox\")"
   ]
  },
  {
   "cell_type": "code",
   "execution_count": null,
   "metadata": {},
   "outputs": [],
   "source": []
  }
 ],
 "metadata": {
  "kernelspec": {
   "display_name": "Python 3",
   "language": "python",
   "name": "python3"
  },
  "language_info": {
   "codemirror_mode": {
    "name": "ipython",
    "version": 3
   },
   "file_extension": ".py",
   "mimetype": "text/x-python",
   "name": "python",
   "nbconvert_exporter": "python",
   "pygments_lexer": "ipython3",
   "version": "3.6.5"
  }
 },
 "nbformat": 4,
 "nbformat_minor": 2
}
