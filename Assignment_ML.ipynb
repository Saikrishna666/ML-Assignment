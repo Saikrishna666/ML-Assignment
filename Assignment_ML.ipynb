{
 "cells": [
  {
   "cell_type": "code",
   "execution_count": 1,
   "metadata": {
    "id": "qfYSsFegV7sy"
   },
   "outputs": [
    {
     "data": {
      "text/plain": [
       "'C:\\\\Users\\\\Sai Krishna\\\\aa ucm ML'"
      ]
     },
     "execution_count": 1,
     "metadata": {},
     "output_type": "execute_result"
    }
   ],
   "source": [
    "import os\n",
    "os.getcwd()\n"
   ]
  },
  {
   "cell_type": "code",
   "execution_count": 4,
   "metadata": {},
   "outputs": [
    {
     "data": {
      "text/html": [
       "<div>\n",
       "<style scoped>\n",
       "    .dataframe tbody tr th:only-of-type {\n",
       "        vertical-align: middle;\n",
       "    }\n",
       "\n",
       "    .dataframe tbody tr th {\n",
       "        vertical-align: top;\n",
       "    }\n",
       "\n",
       "    .dataframe thead th {\n",
       "        text-align: right;\n",
       "    }\n",
       "</style>\n",
       "<table border=\"1\" class=\"dataframe\">\n",
       "  <thead>\n",
       "    <tr style=\"text-align: right;\">\n",
       "      <th></th>\n",
       "      <th>CUST_ID</th>\n",
       "      <th>BALANCE</th>\n",
       "      <th>BALANCE_FREQUENCY</th>\n",
       "      <th>PURCHASES</th>\n",
       "      <th>ONEOFF_PURCHASES</th>\n",
       "      <th>INSTALLMENTS_PURCHASES</th>\n",
       "      <th>CASH_ADVANCE</th>\n",
       "      <th>PURCHASES_FREQUENCY</th>\n",
       "      <th>ONEOFF_PURCHASES_FREQUENCY</th>\n",
       "      <th>PURCHASES_INSTALLMENTS_FREQUENCY</th>\n",
       "      <th>CASH_ADVANCE_FREQUENCY</th>\n",
       "      <th>CASH_ADVANCE_TRX</th>\n",
       "      <th>PURCHASES_TRX</th>\n",
       "      <th>CREDIT_LIMIT</th>\n",
       "      <th>PAYMENTS</th>\n",
       "      <th>MINIMUM_PAYMENTS</th>\n",
       "      <th>PRC_FULL_PAYMENT</th>\n",
       "      <th>TENURE</th>\n",
       "    </tr>\n",
       "  </thead>\n",
       "  <tbody>\n",
       "    <tr>\n",
       "      <th>0</th>\n",
       "      <td>C10001</td>\n",
       "      <td>40.900749</td>\n",
       "      <td>0.818182</td>\n",
       "      <td>95.40</td>\n",
       "      <td>0.00</td>\n",
       "      <td>95.4</td>\n",
       "      <td>0.000000</td>\n",
       "      <td>0.166667</td>\n",
       "      <td>0.000000</td>\n",
       "      <td>0.083333</td>\n",
       "      <td>0.000000</td>\n",
       "      <td>0</td>\n",
       "      <td>2</td>\n",
       "      <td>1000.0</td>\n",
       "      <td>201.802084</td>\n",
       "      <td>139.509787</td>\n",
       "      <td>0.000000</td>\n",
       "      <td>12</td>\n",
       "    </tr>\n",
       "    <tr>\n",
       "      <th>1</th>\n",
       "      <td>C10002</td>\n",
       "      <td>3202.467416</td>\n",
       "      <td>0.909091</td>\n",
       "      <td>0.00</td>\n",
       "      <td>0.00</td>\n",
       "      <td>0.0</td>\n",
       "      <td>6442.945483</td>\n",
       "      <td>0.000000</td>\n",
       "      <td>0.000000</td>\n",
       "      <td>0.000000</td>\n",
       "      <td>0.250000</td>\n",
       "      <td>4</td>\n",
       "      <td>0</td>\n",
       "      <td>7000.0</td>\n",
       "      <td>4103.032597</td>\n",
       "      <td>1072.340217</td>\n",
       "      <td>0.222222</td>\n",
       "      <td>12</td>\n",
       "    </tr>\n",
       "    <tr>\n",
       "      <th>2</th>\n",
       "      <td>C10003</td>\n",
       "      <td>2495.148862</td>\n",
       "      <td>1.000000</td>\n",
       "      <td>773.17</td>\n",
       "      <td>773.17</td>\n",
       "      <td>0.0</td>\n",
       "      <td>0.000000</td>\n",
       "      <td>1.000000</td>\n",
       "      <td>1.000000</td>\n",
       "      <td>0.000000</td>\n",
       "      <td>0.000000</td>\n",
       "      <td>0</td>\n",
       "      <td>12</td>\n",
       "      <td>7500.0</td>\n",
       "      <td>622.066742</td>\n",
       "      <td>627.284787</td>\n",
       "      <td>0.000000</td>\n",
       "      <td>12</td>\n",
       "    </tr>\n",
       "    <tr>\n",
       "      <th>3</th>\n",
       "      <td>C10004</td>\n",
       "      <td>1666.670542</td>\n",
       "      <td>0.636364</td>\n",
       "      <td>1499.00</td>\n",
       "      <td>1499.00</td>\n",
       "      <td>0.0</td>\n",
       "      <td>205.788017</td>\n",
       "      <td>0.083333</td>\n",
       "      <td>0.083333</td>\n",
       "      <td>0.000000</td>\n",
       "      <td>0.083333</td>\n",
       "      <td>1</td>\n",
       "      <td>1</td>\n",
       "      <td>7500.0</td>\n",
       "      <td>0.000000</td>\n",
       "      <td>NaN</td>\n",
       "      <td>0.000000</td>\n",
       "      <td>12</td>\n",
       "    </tr>\n",
       "    <tr>\n",
       "      <th>4</th>\n",
       "      <td>C10005</td>\n",
       "      <td>817.714335</td>\n",
       "      <td>1.000000</td>\n",
       "      <td>16.00</td>\n",
       "      <td>16.00</td>\n",
       "      <td>0.0</td>\n",
       "      <td>0.000000</td>\n",
       "      <td>0.083333</td>\n",
       "      <td>0.083333</td>\n",
       "      <td>0.000000</td>\n",
       "      <td>0.000000</td>\n",
       "      <td>0</td>\n",
       "      <td>1</td>\n",
       "      <td>1200.0</td>\n",
       "      <td>678.334763</td>\n",
       "      <td>244.791237</td>\n",
       "      <td>0.000000</td>\n",
       "      <td>12</td>\n",
       "    </tr>\n",
       "  </tbody>\n",
       "</table>\n",
       "</div>"
      ],
      "text/plain": [
       "  CUST_ID      BALANCE  BALANCE_FREQUENCY  PURCHASES  ONEOFF_PURCHASES  \\\n",
       "0  C10001    40.900749           0.818182      95.40              0.00   \n",
       "1  C10002  3202.467416           0.909091       0.00              0.00   \n",
       "2  C10003  2495.148862           1.000000     773.17            773.17   \n",
       "3  C10004  1666.670542           0.636364    1499.00           1499.00   \n",
       "4  C10005   817.714335           1.000000      16.00             16.00   \n",
       "\n",
       "   INSTALLMENTS_PURCHASES  CASH_ADVANCE  PURCHASES_FREQUENCY  \\\n",
       "0                    95.4      0.000000             0.166667   \n",
       "1                     0.0   6442.945483             0.000000   \n",
       "2                     0.0      0.000000             1.000000   \n",
       "3                     0.0    205.788017             0.083333   \n",
       "4                     0.0      0.000000             0.083333   \n",
       "\n",
       "   ONEOFF_PURCHASES_FREQUENCY  PURCHASES_INSTALLMENTS_FREQUENCY  \\\n",
       "0                    0.000000                          0.083333   \n",
       "1                    0.000000                          0.000000   \n",
       "2                    1.000000                          0.000000   \n",
       "3                    0.083333                          0.000000   \n",
       "4                    0.083333                          0.000000   \n",
       "\n",
       "   CASH_ADVANCE_FREQUENCY  CASH_ADVANCE_TRX  PURCHASES_TRX  CREDIT_LIMIT  \\\n",
       "0                0.000000                 0              2        1000.0   \n",
       "1                0.250000                 4              0        7000.0   \n",
       "2                0.000000                 0             12        7500.0   \n",
       "3                0.083333                 1              1        7500.0   \n",
       "4                0.000000                 0              1        1200.0   \n",
       "\n",
       "      PAYMENTS  MINIMUM_PAYMENTS  PRC_FULL_PAYMENT  TENURE  \n",
       "0   201.802084        139.509787          0.000000      12  \n",
       "1  4103.032597       1072.340217          0.222222      12  \n",
       "2   622.066742        627.284787          0.000000      12  \n",
       "3     0.000000               NaN          0.000000      12  \n",
       "4   678.334763        244.791237          0.000000      12  "
      ]
     },
     "execution_count": 4,
     "metadata": {},
     "output_type": "execute_result"
    }
   ],
   "source": [
    "import pandas as pd\n",
    "import numpy as np\n",
    "from sklearn.preprocessing import StandardScaler\n",
    "from sklearn.decomposition import PCA\n",
    "\n",
    "# Load the dataset\n",
    "df = pd.read_csv('C:/Users/Sai Krishna/aa ucm ML/CC GENERAL.csv')\n",
    "df.head()"
   ]
  },
  {
   "cell_type": "code",
   "execution_count": 5,
   "metadata": {
    "id": "ol8aIW8seCN2"
   },
   "outputs": [],
   "source": [
    "# Drop the irrelevant columns\n",
    "df.drop(['CUST_ID', 'TENURE'], axis=1, inplace=True)\n",
    "\n",
    "# Fill the missing values with the column mean\n",
    "df.fillna(df.mean(), inplace=True)\n"
   ]
  },
  {
   "cell_type": "code",
   "execution_count": 6,
   "metadata": {
    "id": "lQHuv-MQeGVd"
   },
   "outputs": [],
   "source": [
    "# Standardize the data\n",
    "scaler = StandardScaler()\n",
    "df_scaled = scaler.fit_transform(df)\n"
   ]
  },
  {
   "cell_type": "code",
   "execution_count": 31,
   "metadata": {
    "colab": {
     "base_uri": "https://localhost:8080/"
    },
    "id": "lYd9fWGseGcP",
    "outputId": "d2236c1e-3584-4fe9-cde9-8eda7ee6d2e8"
   },
   "outputs": [
    {
     "data": {
      "text/plain": [
       "PCA(copy=True, iterated_power='auto', n_components=10, random_state=None,\n",
       "  svd_solver='auto', tol=0.0, whiten=False)"
      ]
     },
     "execution_count": 31,
     "metadata": {},
     "output_type": "execute_result"
    }
   ],
   "source": [
    "# Apply PCA\n",
    "pca = PCA(n_components=10)\n",
    "pca.fit(df_scaled)\n",
    "\n",
    "\n"
   ]
  },
  {
   "cell_type": "code",
   "execution_count": 32,
   "metadata": {
    "colab": {
     "base_uri": "https://localhost:8080/"
    },
    "id": "4OVCoC1zeTzk",
    "outputId": "4fb36cb9-6e5c-4c57-d4f7-26dca4ec2b7b"
   },
   "outputs": [
    {
     "name": "stdout",
     "output_type": "stream",
     "text": [
      "k=2, silhouette score=0.4673692328074165\n",
      "k=3, silhouette score=0.453296180573071\n",
      "k=4, silhouette score=0.4096553085062355\n",
      "k=5, silhouette score=0.40332579051064926\n",
      "k=6, silhouette score=0.3882683436873478\n",
      "k=7, silhouette score=0.38344958771040216\n",
      "k=8, silhouette score=0.39791173637885735\n",
      "k=9, silhouette score=0.37494544433000165\n",
      "k=10, silhouette score=0.36766086700971656\n"
     ]
    }
   ],
   "source": [
    "from sklearn.cluster import KMeans\n",
    "from sklearn.metrics import silhouette_score\n",
    "\n",
    "# Apply PCA\n",
    "pca = PCA(n_components=2)\n",
    "pca_result = pca.fit_transform(df_scaled)\n",
    "\n",
    "# Apply k-means for k=2 to 10 and get the silhouette scores\n",
    "silhouette_scores = []\n",
    "for k in range(2, 11):\n",
    "    kmeans = KMeans(n_clusters=k, random_state=42)\n",
    "    kmeans.fit(pca_result)\n",
    "    score = silhouette_score(pca_result, kmeans.labels_)\n",
    "    silhouette_scores.append(score)\n",
    "    print(f\"k={k}, silhouette score={score}\")\n"
   ]
  },
  {
   "cell_type": "code",
   "execution_count": 10,
   "metadata": {
    "colab": {
     "base_uri": "https://localhost:8080/",
     "height": 449
    },
    "id": "pGMb6oN8eT9L",
    "outputId": "fc78308b-4a41-4c80-9e58-06e0fb0305b3"
   },
   "outputs": [
    {
     "data": {
      "image/png": "[encoded data removed]",
      "text/plain": [
       "<Figure size 432x288 with 1 Axes>"
      ]
     },
     "metadata": {},
     "output_type": "display_data"
    }
   ],
   "source": [
    "import matplotlib.pyplot as plt\n",
    "\n",
    "# Plot the silhouette scores\n",
    "plt.plot(range(2, 11), silhouette_scores)\n",
    "plt.xlabel('Number of Clusters')\n",
    "plt.ylabel('Silhouette Score')\n",
    "plt.show()\n"
   ]
  },
  {
   "cell_type": "code",
   "execution_count": 12,
   "metadata": {
    "id": "59YgXo98eUJk"
   },
   "outputs": [],
   "source": [
    "import pandas as pd\n",
    "import numpy as np\n",
    "from sklearn.preprocessing import StandardScaler\n",
    "from sklearn.decomposition import PCA\n",
    "from sklearn.cluster import KMeans\n",
    "from sklearn.metrics import silhouette_score\n",
    "\n",
    "# Load the dataset\n",
    "df = pd.read_csv('C:/Users/Sai Krishna/aa ucm ML/CC GENERAL.csv')\n"
   ]
  },
  {
   "cell_type": "code",
   "execution_count": 13,
   "metadata": {
    "id": "JGWev5tvf-x-"
   },
   "outputs": [],
   "source": [
    "# Drop the irrelevant columns\n",
    "df.drop(['CUST_ID', 'TENURE'], axis=1, inplace=True)\n",
    "\n",
    "# Fill the missing values with the column mean\n",
    "df.fillna(df.mean(), inplace=True)\n"
   ]
  },
  {
   "cell_type": "code",
   "execution_count": 16,
   "metadata": {
    "id": "sql5fxu9f_A7"
   },
   "outputs": [],
   "source": [
    "# Scale the data\n",
    "scaler = StandardScaler()\n",
    "df_scaled = scaler.fit_transform(df)\n"
   ]
  },
  {
   "cell_type": "code",
   "execution_count": 17,
   "metadata": {
    "id": "ttTGRKL6gNWT"
   },
   "outputs": [],
   "source": [
    "# Perform PCA\n",
    "pca = PCA(n_components=10)\n",
    "df_pca = pca.fit_transform(df_scaled)\n"
   ]
  },
  {
   "cell_type": "code",
   "execution_count": 18,
   "metadata": {
    "colab": {
     "base_uri": "https://localhost:8080/"
    },
    "id": "FSD7eWMkgNga",
    "outputId": "3bba99dd-5228-443a-80d0-9ba9a1b8e579"
   },
   "outputs": [],
   "source": [
    "# Apply K-Means clustering\n",
    "kmeans = KMeans(n_clusters=5, random_state=42)\n",
    "kmeans.fit(df_pca)\n",
    "labels = kmeans.labels_\n"
   ]
  },
  {
   "cell_type": "code",
   "execution_count": 20,
   "metadata": {
    "colab": {
     "base_uri": "https://localhost:8080/"
    },
    "id": "Izck-nkwgNow",
    "outputId": "29a5abaf-7c84-4e9b-b936-49c73c8308bd"
   },
   "outputs": [
    {
     "name": "stdout",
     "output_type": "stream",
     "text": [
      "The average silhouette score is : 0.23147252206108726\n"
     ]
    }
   ],
   "source": [
    "# Calculate the silhouette score\n",
    "silhouette_avg = silhouette_score(df_pca, labels)\n",
    "print(f\"The average silhouette score is : {silhouette_avg}\")\n"
   ]
  },
  {
   "cell_type": "code",
   "execution_count": 21,
   "metadata": {
    "id": "F0i-fiFxgeG1"
   },
   "outputs": [],
   "source": [
    "import pandas as pd\n",
    "\n",
    "df = pd.read_csv('C:/Users/Sai Krishna/aa ucm ML/pd_speech_features.csv', header=1)\n"
   ]
  },
  {
   "cell_type": "code",
   "execution_count": 22,
   "metadata": {
    "id": "UYRdEksWgeN3"
   },
   "outputs": [],
   "source": [
    "X = df.iloc[:, :-1].values\n",
    "y = df.iloc[:, -1].values\n"
   ]
  },
  {
   "cell_type": "code",
   "execution_count": 23,
   "metadata": {
    "id": "YVnuQVlOgeS6"
   },
   "outputs": [],
   "source": [
    "from sklearn.preprocessing import StandardScaler\n",
    "\n",
    "scaler = StandardScaler()\n",
    "X_scaled = scaler.fit_transform(X)\n"
   ]
  },
  {
   "cell_type": "code",
   "execution_count": 24,
   "metadata": {
    "id": "Cl9qN0bBgeWH"
   },
   "outputs": [],
   "source": [
    "from sklearn.decomposition import PCA\n",
    "\n",
    "pca = PCA(n_components=3)\n",
    "X_pca = pca.fit_transform(X_scaled)\n"
   ]
  },
  {
   "cell_type": "code",
   "execution_count": 25,
   "metadata": {
    "id": "gO3xFVtBgedJ"
   },
   "outputs": [],
   "source": [
    "from sklearn.model_selection import train_test_split\n",
    "\n",
    "X_train, X_test, y_train, y_test = train_test_split(X_pca, y, test_size=0.2, random_state=42)\n"
   ]
  },
  {
   "cell_type": "code",
   "execution_count": 26,
   "metadata": {
    "colab": {
     "base_uri": "https://localhost:8080/"
    },
    "id": "qH6VjZkzj4Ik",
    "outputId": "925a539a-d9d6-45ca-a2c4-9f75611d28c3"
   },
   "outputs": [
    {
     "name": "stdout",
     "output_type": "stream",
     "text": [
      "Accuracy: 0.7682119205298014\n"
     ]
    }
   ],
   "source": [
    "from sklearn.svm import SVC\n",
    "from sklearn.metrics import accuracy_score\n",
    "\n",
    "svm = SVC(kernel='rbf', random_state=42)\n",
    "svm.fit(X_train, y_train)\n",
    "\n",
    "y_pred = svm.predict(X_test)\n",
    "accuracy = accuracy_score(y_test, y_pred)\n",
    "\n",
    "print(f\"Accuracy: {accuracy}\")\n"
   ]
  },
  {
   "cell_type": "code",
   "execution_count": 28,
   "metadata": {
    "id": "GLqNglDfj-eV"
   },
   "outputs": [],
   "source": [
    "import pandas as pd\n",
    "\n",
    "df = pd.read_csv('C:/Users/Sai Krishna/aa ucm ML/Iris.csv')\n",
    "X = df.iloc[:, :-1].values\n",
    "y = df.iloc[:, -1].values\n"
   ]
  },
  {
   "cell_type": "code",
   "execution_count": 29,
   "metadata": {
    "id": "Ymb-RWFDj-sS"
   },
   "outputs": [],
   "source": [
    "from sklearn.preprocessing import StandardScaler\n",
    "\n",
    "scaler = StandardScaler()\n",
    "X_scaled = scaler.fit_transform(X)\n"
   ]
  },
  {
   "cell_type": "code",
   "execution_count": 34,
   "metadata": {
    "id": "4CcRY6eJj4Qd"
   },
   "outputs": [
    {
     "name": "stdout",
     "output_type": "stream",
     "text": [
      "[[-1.00367633e+01 -4.51330244e-01]\n",
      " [-9.17292994e+00 -1.47723373e+00]\n",
      " [-9.48098912e+00 -9.79692560e-01]\n",
      " [-8.81811924e+00 -1.40860220e+00]\n",
      " [-9.96020031e+00 -1.12546395e-01]\n",
      " [-9.52340255e+00  4.51643380e-01]\n",
      " [-9.09952354e+00 -4.86482040e-01]\n",
      " [-9.36783890e+00 -5.04697982e-01]\n",
      " [-8.43252777e+00 -1.54258487e+00]\n",
      " [-9.04605350e+00 -1.12678955e+00]\n",
      " [-9.95350008e+00  3.56470204e-01]\n",
      " [-8.87394210e+00 -5.18434104e-01]\n",
      " [-8.94008429e+00 -1.11285002e+00]\n",
      " [-9.18158609e+00 -8.76623262e-01]\n",
      " [-1.11320035e+01  1.61775153e+00]\n",
      " [-1.04813364e+01  2.21867191e+00]\n",
      " [-9.96642412e+00  1.39824256e+00]\n",
      " [-9.19297836e+00  3.48117706e-01]\n",
      " [-9.36227503e+00  8.31991272e-01]\n",
      " [-9.32391418e+00  9.16315048e-01]\n",
      " [-8.76248233e+00 -5.62718432e-02]\n",
      " [-8.88178087e+00  8.74105504e-01]\n",
      " [-9.87055894e+00  1.00209591e+00]\n",
      " [-7.60804498e+00 -8.20642233e-03]\n",
      " [-7.77791864e+00 -3.20242776e-01]\n",
      " [-7.96141242e+00 -6.57043051e-01]\n",
      " [-8.00979719e+00  3.34031714e-01]\n",
      " [-8.92701582e+00  6.16194234e-01]\n",
      " [-8.96319773e+00  5.77438977e-01]\n",
      " [-7.88178440e+00 -1.83196764e-01]\n",
      " [-7.77863981e+00 -3.08300446e-01]\n",
      " [-8.32075648e+00  7.97946692e-01]\n",
      " [-9.80491422e+00  1.96064097e+00]\n",
      " [-1.00940635e+01  2.49438691e+00]\n",
      " [-8.14751552e+00 -5.83887141e-02]\n",
      " [-8.71531779e+00  6.48054077e-01]\n",
      " [-9.23353552e+00  1.33740177e+00]\n",
      " [-8.03969096e+00  6.98193862e-02]\n",
      " [-7.70134791e+00  5.92388280e-02]\n",
      " [-8.28797837e+00  8.95632366e-01]\n",
      " [-8.50564992e+00  1.41739490e+00]\n",
      " [-6.46871430e+00 -1.11115936e+00]\n",
      " [-7.83252412e+00  6.31416947e-01]\n",
      " [-7.07070424e+00  1.40703204e+00]\n",
      " [-7.35421879e+00  1.58114846e+00]\n",
      " [-7.28845589e+00  4.43309849e-01]\n",
      " [-8.37667774e+00  1.87812687e+00]\n",
      " [-7.58375812e+00  7.91525966e-01]\n",
      " [-8.51745429e+00  1.94766220e+00]\n",
      " [-7.93041853e+00  1.20872413e+00]\n",
      " [ 5.47603031e-01 -1.34953488e+00]\n",
      " [ 8.18743015e-01 -1.19227573e+00]\n",
      " [ 1.47919357e+00 -1.66277311e+00]\n",
      " [ 1.24674791e+00 -2.75759433e+00]\n",
      " [ 1.61577864e+00 -1.95288402e+00]\n",
      " [ 1.53871193e+00 -2.19911126e+00]\n",
      " [ 1.58321582e+00 -9.76071865e-01]\n",
      " [-4.90848088e-01 -1.96762310e+00]\n",
      " [ 1.08624721e+00 -1.69441638e+00]\n",
      " [ 1.14650126e+00 -1.60498091e+00]\n",
      " [ 5.15782102e-01 -2.84735710e+00]\n",
      " [ 1.17565717e+00 -9.72658654e-01]\n",
      " [ 6.58014924e-01 -2.62850679e+00]\n",
      " [ 2.05966891e+00 -1.69081292e+00]\n",
      " [-9.13685905e-02 -5.74515926e-01]\n",
      " [ 8.06217483e-01 -6.50066097e-01]\n",
      " [ 2.19495271e+00 -1.21468742e+00]\n",
      " [ 5.00497531e-01 -1.59642191e+00]\n",
      " [ 2.94499642e+00 -2.53748763e+00]\n",
      " [ 8.01449008e-01 -1.66655160e+00]\n",
      " [ 3.18009339e+00 -6.82748437e-01]\n",
      " [ 7.84731075e-01 -7.88597108e-01]\n",
      " [ 3.44445927e+00 -2.20841806e+00]\n",
      " [ 2.09099696e+00 -1.60994034e+00]\n",
      " [ 1.17306396e+00 -7.18817291e-01]\n",
      " [ 1.37337189e+00 -4.56100032e-01]\n",
      " [ 2.38209782e+00 -1.22554624e+00]\n",
      " [ 3.33089169e+00 -8.33798757e-01]\n",
      " [ 2.48264977e+00 -7.71362907e-01]\n",
      " [-1.18032439e-01 -6.02229567e-01]\n",
      " [ 1.19495037e+00 -1.31072380e+00]\n",
      " [ 7.88518179e-01 -1.22179744e+00]\n",
      " [ 1.08598945e+00 -5.71259243e-01]\n",
      " [ 4.42764620e+00 -1.60073556e+00]\n",
      " [ 2.98243620e+00 -5.10993376e-01]\n",
      " [ 2.27966382e+00  6.03809671e-01]\n",
      " [ 2.42255223e+00 -3.70511200e-02]\n",
      " [ 2.74499322e+00 -1.51885379e+00]\n",
      " [ 1.68172957e+00  5.61373580e-02]\n",
      " [ 2.26570031e+00 -8.17863146e-01]\n",
      " [ 2.76976983e+00 -1.12394831e+00]\n",
      " [ 2.71896572e+00 -1.74461286e-01]\n",
      " [ 1.79247035e+00 -4.63641603e-01]\n",
      " [ 8.70249660e-01 -5.96965610e-01]\n",
      " [ 2.51938668e+00 -4.08423121e-01]\n",
      " [ 1.83986756e+00  1.96005786e-01]\n",
      " [ 2.24605936e+00  1.11060208e-01]\n",
      " [ 2.14025506e+00  1.98556924e-01]\n",
      " [ 3.08742320e-01  4.81038307e-01]\n",
      " [ 2.28176049e+00  1.57777018e-01]\n",
      " [ 7.98438431e+00  1.20979101e-02]\n",
      " [ 5.91346711e+00 -6.78235364e-01]\n",
      " [ 6.76582503e+00 -4.14678608e-01]\n",
      " [ 6.17426119e+00 -6.96206820e-01]\n",
      " [ 7.28250110e+00 -3.33809119e-01]\n",
      " [ 7.98947118e+00 -9.56464037e-01]\n",
      " [ 5.27740400e+00 -5.91901224e-01]\n",
      " [ 7.08250847e+00 -1.03136983e+00]\n",
      " [ 7.04197018e+00 -1.39213692e+00]\n",
      " [ 7.47262642e+00  1.17444298e+00]\n",
      " [ 5.29048767e+00  1.01185022e+00]\n",
      " [ 6.27046298e+00 -2.92462772e-01]\n",
      " [ 6.49766617e+00  3.90852705e-01]\n",
      " [ 6.71316027e+00 -4.07353141e-01]\n",
      " [ 7.40713141e+00  4.42626970e-01]\n",
      " [ 6.65798989e+00  1.17330785e+00]\n",
      " [ 6.15389907e+00  2.44658864e-01]\n",
      " [ 7.69310590e+00  1.14789126e+00]\n",
      " [ 1.00306694e+01 -1.38209264e+00]\n",
      " [ 5.96652289e+00 -1.01913299e+00]\n",
      " [ 7.32473538e+00  1.07437159e+00]\n",
      " [ 6.44895251e+00  6.22734529e-01]\n",
      " [ 8.78196665e+00 -7.90469260e-01]\n",
      " [ 5.70087187e+00  5.91159780e-01]\n",
      " [ 7.00600819e+00  1.23450740e+00]\n",
      " [ 6.75852676e+00  6.64329578e-01]\n",
      " [ 5.53189879e+00  1.00633330e+00]\n",
      " [ 5.57276067e+00  1.29840034e+00]\n",
      " [ 7.83833964e+00  4.23160445e-01]\n",
      " [ 6.29248770e+00  5.26420368e-01]\n",
      " [ 7.78995647e+00  9.49060082e-02]\n",
      " [ 6.96140902e+00  2.02325663e+00]\n",
      " [ 8.21488486e+00  6.67039960e-01]\n",
      " [ 5.64366764e+00  7.62079558e-01]\n",
      " [ 6.91028131e+00 -3.30536839e-01]\n",
      " [ 8.41503410e+00  1.09989352e+00]\n",
      " [ 8.06965043e+00  2.15477953e+00]\n",
      " [ 6.84146790e+00  1.30995528e+00]\n",
      " [ 5.82879089e+00  1.85484513e+00]\n",
      " [ 7.05075339e+00  1.89724558e+00]\n",
      " [ 8.34475762e+00  1.85498180e+00]\n",
      " [ 6.95941100e+00  2.48596552e+00]\n",
      " [ 7.38706939e+00  1.07394201e+00]\n",
      " [ 8.64084753e+00  1.78627168e+00]\n",
      " [ 8.65595512e+00  2.38096960e+00]\n",
      " [ 7.59077894e+00  2.27161240e+00]\n",
      " [ 7.24484280e+00  1.12666424e+00]\n",
      " [ 7.10486072e+00  2.07272377e+00]\n",
      " [ 7.91924846e+00  2.80015068e+00]\n",
      " [ 6.92319938e+00  1.93478711e+00]]\n"
     ]
    }
   ],
   "source": [
    "from sklearn.discriminant_analysis import LinearDiscriminantAnalysis as LDA\n",
    "\n",
    "lda = LDA(n_components=2)\n",
    "X_lda = lda.fit_transform(X_scaled, y)\n",
    "print(X_lda)\n"
   ]
  },
  {
   "cell_type": "code",
   "execution_count": null,
   "metadata": {
    "id": "BSTNhUXglc70"
   },
   "outputs": [],
   "source": [
    "\n",
    "PCA (Principal Component Analysis) and LDA (Linear Discriminant Analysis) are both methods for dimensionality reduction, but they have different objectives and are used in different scenarios.\n",
    "\n",
    "PCA is an unsupervised method that seeks to find the most important features or directions in the data that capture the maximum amount of variance. It does not take into account the labels of the data and simply tries to find a low-dimensional representation of the data that preserves as much information as possible. PCA is often used for data visualization, noise reduction, and feature extraction.\n",
    "\n",
    "LDA, on the other hand, is a supervised method that seeks to find the most discriminative features or directions in the data that maximize the separation between the classes. It takes into account the labels of the data and tries to find a low-dimensional representation of the data that maximizes the inter-class distance and minimizes the intra-class distance. LDA is often used for classification and feature extraction.\n",
    "\n",
    "In summary, while both PCA and LDA are methods for dimensionality reduction, PCA is an unsupervised method that seeks to capture the maximum amount of variance in the data, while LDA is a supervised method that seeks to maximize the separation between the classes in the data."
   ]
  },
  {
   "cell_type": "code",
   "execution_count": null,
   "metadata": {
    "id": "DhXisK5AldFb"
   },
   "outputs": [],
   "source": []
  }
 ],
 "metadata": {
  "colab": {
   "provenance": []
  },
  "kernelspec": {
   "display_name": "Python 3",
   "language": "python",
   "name": "python3"
  },
  "language_info": {
   "codemirror_mode": {
    "name": "ipython",
    "version": 3
   },
   "file_extension": ".py",
   "mimetype": "text/x-python",
   "name": "python",
   "nbconvert_exporter": "python",
   "pygments_lexer": "ipython3",
   "version": "3.6.5"
  }
 },
 "nbformat": 4,
 "nbformat_minor": 1
}
